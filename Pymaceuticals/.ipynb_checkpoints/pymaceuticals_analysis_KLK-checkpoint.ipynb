{
 "cells": [
  {
   "cell_type": "markdown",
   "id": "022e04cb",
   "metadata": {},
   "source": [
    "# Kevin Krause"
   ]
  },
  {
   "cell_type": "markdown",
   "id": "29865df2",
   "metadata": {},
   "source": [
    "## KU Data Analytics Bootcamp\n",
    "## Module 5 Challenge\n",
    "## May 4,2023"
   ]
  },
  {
   "cell_type": "code",
   "execution_count": 1,
   "id": "490603ea",
   "metadata": {},
   "outputs": [],
   "source": [
    "#%matplotlib notebook"
   ]
  },
  {
   "cell_type": "code",
   "execution_count": 2,
   "id": "f6555be4",
   "metadata": {},
   "outputs": [],
   "source": [
    "import pandas as pd\n",
    "from pathlib import Path\n",
    "import seaborn as sns\n",
    "import numpy as np\n",
    "import matplotlib.pyplot as plt\n",
    "import scipy.stats as st"
   ]
  },
  {
   "cell_type": "markdown",
   "id": "049bd0c0",
   "metadata": {},
   "source": [
    "## Prepare the Data"
   ]
  },
  {
   "cell_type": "code",
   "execution_count": 3,
   "id": "82f90844",
   "metadata": {},
   "outputs": [
    {
     "data": {
      "text/html": [
       "<div>\n",
       "<style scoped>\n",
       "    .dataframe tbody tr th:only-of-type {\n",
       "        vertical-align: middle;\n",
       "    }\n",
       "\n",
       "    .dataframe tbody tr th {\n",
       "        vertical-align: top;\n",
       "    }\n",
       "\n",
       "    .dataframe thead th {\n",
       "        text-align: right;\n",
       "    }\n",
       "</style>\n",
       "<table border=\"1\" class=\"dataframe\">\n",
       "  <thead>\n",
       "    <tr style=\"text-align: right;\">\n",
       "      <th></th>\n",
       "      <th>Mouse ID</th>\n",
       "      <th>Drug Regimen</th>\n",
       "      <th>Sex</th>\n",
       "      <th>Age_months</th>\n",
       "      <th>Weight (g)</th>\n",
       "    </tr>\n",
       "  </thead>\n",
       "  <tbody>\n",
       "    <tr>\n",
       "      <th>0</th>\n",
       "      <td>k403</td>\n",
       "      <td>Ramicane</td>\n",
       "      <td>Male</td>\n",
       "      <td>21</td>\n",
       "      <td>16</td>\n",
       "    </tr>\n",
       "    <tr>\n",
       "      <th>1</th>\n",
       "      <td>s185</td>\n",
       "      <td>Capomulin</td>\n",
       "      <td>Female</td>\n",
       "      <td>3</td>\n",
       "      <td>17</td>\n",
       "    </tr>\n",
       "    <tr>\n",
       "      <th>2</th>\n",
       "      <td>x401</td>\n",
       "      <td>Capomulin</td>\n",
       "      <td>Female</td>\n",
       "      <td>16</td>\n",
       "      <td>15</td>\n",
       "    </tr>\n",
       "    <tr>\n",
       "      <th>3</th>\n",
       "      <td>m601</td>\n",
       "      <td>Capomulin</td>\n",
       "      <td>Male</td>\n",
       "      <td>22</td>\n",
       "      <td>17</td>\n",
       "    </tr>\n",
       "    <tr>\n",
       "      <th>4</th>\n",
       "      <td>g791</td>\n",
       "      <td>Ramicane</td>\n",
       "      <td>Male</td>\n",
       "      <td>11</td>\n",
       "      <td>16</td>\n",
       "    </tr>\n",
       "  </tbody>\n",
       "</table>\n",
       "</div>"
      ],
      "text/plain": [
       "  Mouse ID Drug Regimen     Sex  Age_months  Weight (g)\n",
       "0     k403     Ramicane    Male          21          16\n",
       "1     s185    Capomulin  Female           3          17\n",
       "2     x401    Capomulin  Female          16          15\n",
       "3     m601    Capomulin    Male          22          17\n",
       "4     g791     Ramicane    Male          11          16"
      ]
     },
     "execution_count": 3,
     "metadata": {},
     "output_type": "execute_result"
    }
   ],
   "source": [
    "#Read the mouse and study data into a data frame and merge mouse data and the study results data together\n",
    "Mouse_Data = Path(\"data/Mouse_metadata.csv\")\n",
    "Study_Results_Data = Path(\"data/Study_results.csv\")\n",
    "\n",
    "mouse_data_df = pd.read_csv(Mouse_Data)\n",
    "study_results_data_df = pd.read_csv(Study_Results_Data)\n",
    "\n",
    "mouse_data_df.head()"
   ]
  },
  {
   "cell_type": "code",
   "execution_count": 4,
   "id": "0190e831",
   "metadata": {},
   "outputs": [
    {
     "data": {
      "text/html": [
       "<div>\n",
       "<style scoped>\n",
       "    .dataframe tbody tr th:only-of-type {\n",
       "        vertical-align: middle;\n",
       "    }\n",
       "\n",
       "    .dataframe tbody tr th {\n",
       "        vertical-align: top;\n",
       "    }\n",
       "\n",
       "    .dataframe thead th {\n",
       "        text-align: right;\n",
       "    }\n",
       "</style>\n",
       "<table border=\"1\" class=\"dataframe\">\n",
       "  <thead>\n",
       "    <tr style=\"text-align: right;\">\n",
       "      <th></th>\n",
       "      <th>Mouse ID</th>\n",
       "      <th>Timepoint</th>\n",
       "      <th>Tumor Volume (mm3)</th>\n",
       "      <th>Metastatic Sites</th>\n",
       "    </tr>\n",
       "  </thead>\n",
       "  <tbody>\n",
       "    <tr>\n",
       "      <th>0</th>\n",
       "      <td>b128</td>\n",
       "      <td>0</td>\n",
       "      <td>45.0</td>\n",
       "      <td>0</td>\n",
       "    </tr>\n",
       "    <tr>\n",
       "      <th>1</th>\n",
       "      <td>f932</td>\n",
       "      <td>0</td>\n",
       "      <td>45.0</td>\n",
       "      <td>0</td>\n",
       "    </tr>\n",
       "    <tr>\n",
       "      <th>2</th>\n",
       "      <td>g107</td>\n",
       "      <td>0</td>\n",
       "      <td>45.0</td>\n",
       "      <td>0</td>\n",
       "    </tr>\n",
       "    <tr>\n",
       "      <th>3</th>\n",
       "      <td>a457</td>\n",
       "      <td>0</td>\n",
       "      <td>45.0</td>\n",
       "      <td>0</td>\n",
       "    </tr>\n",
       "    <tr>\n",
       "      <th>4</th>\n",
       "      <td>c819</td>\n",
       "      <td>0</td>\n",
       "      <td>45.0</td>\n",
       "      <td>0</td>\n",
       "    </tr>\n",
       "  </tbody>\n",
       "</table>\n",
       "</div>"
      ],
      "text/plain": [
       "  Mouse ID  Timepoint  Tumor Volume (mm3)  Metastatic Sites\n",
       "0     b128          0                45.0                 0\n",
       "1     f932          0                45.0                 0\n",
       "2     g107          0                45.0                 0\n",
       "3     a457          0                45.0                 0\n",
       "4     c819          0                45.0                 0"
      ]
     },
     "execution_count": 4,
     "metadata": {},
     "output_type": "execute_result"
    }
   ],
   "source": [
    "study_results_data_df.head()"
   ]
  },
  {
   "cell_type": "code",
   "execution_count": 5,
   "id": "0b52b886",
   "metadata": {},
   "outputs": [
    {
     "data": {
      "text/html": [
       "<div>\n",
       "<style scoped>\n",
       "    .dataframe tbody tr th:only-of-type {\n",
       "        vertical-align: middle;\n",
       "    }\n",
       "\n",
       "    .dataframe tbody tr th {\n",
       "        vertical-align: top;\n",
       "    }\n",
       "\n",
       "    .dataframe thead th {\n",
       "        text-align: right;\n",
       "    }\n",
       "</style>\n",
       "<table border=\"1\" class=\"dataframe\">\n",
       "  <thead>\n",
       "    <tr style=\"text-align: right;\">\n",
       "      <th></th>\n",
       "      <th>Mouse ID</th>\n",
       "      <th>Drug Regimen</th>\n",
       "      <th>Sex</th>\n",
       "      <th>Age_months</th>\n",
       "      <th>Weight (g)</th>\n",
       "      <th>Timepoint</th>\n",
       "      <th>Tumor Volume (mm3)</th>\n",
       "      <th>Metastatic Sites</th>\n",
       "    </tr>\n",
       "  </thead>\n",
       "  <tbody>\n",
       "    <tr>\n",
       "      <th>0</th>\n",
       "      <td>k403</td>\n",
       "      <td>Ramicane</td>\n",
       "      <td>Male</td>\n",
       "      <td>21</td>\n",
       "      <td>16</td>\n",
       "      <td>0</td>\n",
       "      <td>45.000000</td>\n",
       "      <td>0</td>\n",
       "    </tr>\n",
       "    <tr>\n",
       "      <th>1</th>\n",
       "      <td>k403</td>\n",
       "      <td>Ramicane</td>\n",
       "      <td>Male</td>\n",
       "      <td>21</td>\n",
       "      <td>16</td>\n",
       "      <td>5</td>\n",
       "      <td>38.825898</td>\n",
       "      <td>0</td>\n",
       "    </tr>\n",
       "    <tr>\n",
       "      <th>2</th>\n",
       "      <td>k403</td>\n",
       "      <td>Ramicane</td>\n",
       "      <td>Male</td>\n",
       "      <td>21</td>\n",
       "      <td>16</td>\n",
       "      <td>10</td>\n",
       "      <td>35.014271</td>\n",
       "      <td>1</td>\n",
       "    </tr>\n",
       "    <tr>\n",
       "      <th>3</th>\n",
       "      <td>k403</td>\n",
       "      <td>Ramicane</td>\n",
       "      <td>Male</td>\n",
       "      <td>21</td>\n",
       "      <td>16</td>\n",
       "      <td>15</td>\n",
       "      <td>34.223992</td>\n",
       "      <td>1</td>\n",
       "    </tr>\n",
       "    <tr>\n",
       "      <th>4</th>\n",
       "      <td>k403</td>\n",
       "      <td>Ramicane</td>\n",
       "      <td>Male</td>\n",
       "      <td>21</td>\n",
       "      <td>16</td>\n",
       "      <td>20</td>\n",
       "      <td>32.997729</td>\n",
       "      <td>1</td>\n",
       "    </tr>\n",
       "  </tbody>\n",
       "</table>\n",
       "</div>"
      ],
      "text/plain": [
       "  Mouse ID Drug Regimen   Sex  Age_months  Weight (g)  Timepoint  \\\n",
       "0     k403     Ramicane  Male          21          16          0   \n",
       "1     k403     Ramicane  Male          21          16          5   \n",
       "2     k403     Ramicane  Male          21          16         10   \n",
       "3     k403     Ramicane  Male          21          16         15   \n",
       "4     k403     Ramicane  Male          21          16         20   \n",
       "\n",
       "   Tumor Volume (mm3)  Metastatic Sites  \n",
       "0           45.000000                 0  \n",
       "1           38.825898                 0  \n",
       "2           35.014271                 1  \n",
       "3           34.223992                 1  \n",
       "4           32.997729                 1  "
      ]
     },
     "execution_count": 5,
     "metadata": {},
     "output_type": "execute_result"
    }
   ],
   "source": [
    "Mouse_StudyResults_Data_df = pd.merge(mouse_data_df,study_results_data_df,on=[\"Mouse ID\",\"Mouse ID\"])\n",
    "Mouse_StudyResults_Data_df.head()\n"
   ]
  },
  {
   "cell_type": "code",
   "execution_count": 6,
   "id": "c63ecf0e",
   "metadata": {},
   "outputs": [
    {
     "data": {
      "text/plain": [
       "249"
      ]
     },
     "execution_count": 6,
     "metadata": {},
     "output_type": "execute_result"
    }
   ],
   "source": [
    "# Display the number of unique Mice IDs in the data\n",
    "Mouse_StudyResults_Data_df[\"Mouse ID\"].nunique()"
   ]
  },
  {
   "cell_type": "code",
   "execution_count": 7,
   "id": "b3d97f7f",
   "metadata": {},
   "outputs": [
    {
     "data": {
      "text/html": [
       "<div>\n",
       "<style scoped>\n",
       "    .dataframe tbody tr th:only-of-type {\n",
       "        vertical-align: middle;\n",
       "    }\n",
       "\n",
       "    .dataframe tbody tr th {\n",
       "        vertical-align: top;\n",
       "    }\n",
       "\n",
       "    .dataframe thead th {\n",
       "        text-align: right;\n",
       "    }\n",
       "</style>\n",
       "<table border=\"1\" class=\"dataframe\">\n",
       "  <thead>\n",
       "    <tr style=\"text-align: right;\">\n",
       "      <th></th>\n",
       "      <th>Mouse ID</th>\n",
       "      <th>Timepoint</th>\n",
       "      <th>Num_Occur</th>\n",
       "    </tr>\n",
       "  </thead>\n",
       "  <tbody>\n",
       "    <tr>\n",
       "      <th>586</th>\n",
       "      <td>g989</td>\n",
       "      <td>0</td>\n",
       "      <td>2</td>\n",
       "    </tr>\n",
       "    <tr>\n",
       "      <th>587</th>\n",
       "      <td>g989</td>\n",
       "      <td>5</td>\n",
       "      <td>2</td>\n",
       "    </tr>\n",
       "    <tr>\n",
       "      <th>588</th>\n",
       "      <td>g989</td>\n",
       "      <td>10</td>\n",
       "      <td>2</td>\n",
       "    </tr>\n",
       "    <tr>\n",
       "      <th>589</th>\n",
       "      <td>g989</td>\n",
       "      <td>15</td>\n",
       "      <td>2</td>\n",
       "    </tr>\n",
       "    <tr>\n",
       "      <th>590</th>\n",
       "      <td>g989</td>\n",
       "      <td>20</td>\n",
       "      <td>2</td>\n",
       "    </tr>\n",
       "  </tbody>\n",
       "</table>\n",
       "</div>"
      ],
      "text/plain": [
       "    Mouse ID  Timepoint  Num_Occur\n",
       "586     g989          0          2\n",
       "587     g989          5          2\n",
       "588     g989         10          2\n",
       "589     g989         15          2\n",
       "590     g989         20          2"
      ]
     },
     "execution_count": 7,
     "metadata": {},
     "output_type": "execute_result"
    }
   ],
   "source": [
    "Find_Dupes_df = Mouse_StudyResults_Data_df.groupby(['Mouse ID','Timepoint']).size().to_frame('Num_Occur').reset_index()\n",
    "Find_Dupes_df\n",
    "#Find_Dupes_df.head()\n",
    "\n",
    "Find_Dupes_df.loc[Find_Dupes_df['Num_Occur'] > 1]\n",
    "\n",
    "#The following mouse id has duplicate entries and they must be removed."
   ]
  },
  {
   "cell_type": "code",
   "execution_count": 8,
   "id": "c2ae4430",
   "metadata": {},
   "outputs": [
    {
     "data": {
      "text/html": [
       "<div>\n",
       "<style scoped>\n",
       "    .dataframe tbody tr th:only-of-type {\n",
       "        vertical-align: middle;\n",
       "    }\n",
       "\n",
       "    .dataframe tbody tr th {\n",
       "        vertical-align: top;\n",
       "    }\n",
       "\n",
       "    .dataframe thead th {\n",
       "        text-align: right;\n",
       "    }\n",
       "</style>\n",
       "<table border=\"1\" class=\"dataframe\">\n",
       "  <thead>\n",
       "    <tr style=\"text-align: right;\">\n",
       "      <th></th>\n",
       "      <th>Mouse ID</th>\n",
       "      <th>Drug Regimen</th>\n",
       "      <th>Sex</th>\n",
       "      <th>Age_months</th>\n",
       "      <th>Weight (g)</th>\n",
       "      <th>Timepoint</th>\n",
       "      <th>Tumor Volume (mm3)</th>\n",
       "      <th>Metastatic Sites</th>\n",
       "    </tr>\n",
       "  </thead>\n",
       "  <tbody>\n",
       "    <tr>\n",
       "      <th>908</th>\n",
       "      <td>g989</td>\n",
       "      <td>Propriva</td>\n",
       "      <td>Female</td>\n",
       "      <td>21</td>\n",
       "      <td>26</td>\n",
       "      <td>0</td>\n",
       "      <td>45.000000</td>\n",
       "      <td>0</td>\n",
       "    </tr>\n",
       "    <tr>\n",
       "      <th>909</th>\n",
       "      <td>g989</td>\n",
       "      <td>Propriva</td>\n",
       "      <td>Female</td>\n",
       "      <td>21</td>\n",
       "      <td>26</td>\n",
       "      <td>0</td>\n",
       "      <td>45.000000</td>\n",
       "      <td>0</td>\n",
       "    </tr>\n",
       "    <tr>\n",
       "      <th>910</th>\n",
       "      <td>g989</td>\n",
       "      <td>Propriva</td>\n",
       "      <td>Female</td>\n",
       "      <td>21</td>\n",
       "      <td>26</td>\n",
       "      <td>5</td>\n",
       "      <td>48.786801</td>\n",
       "      <td>0</td>\n",
       "    </tr>\n",
       "    <tr>\n",
       "      <th>911</th>\n",
       "      <td>g989</td>\n",
       "      <td>Propriva</td>\n",
       "      <td>Female</td>\n",
       "      <td>21</td>\n",
       "      <td>26</td>\n",
       "      <td>5</td>\n",
       "      <td>47.570392</td>\n",
       "      <td>0</td>\n",
       "    </tr>\n",
       "    <tr>\n",
       "      <th>912</th>\n",
       "      <td>g989</td>\n",
       "      <td>Propriva</td>\n",
       "      <td>Female</td>\n",
       "      <td>21</td>\n",
       "      <td>26</td>\n",
       "      <td>10</td>\n",
       "      <td>51.745156</td>\n",
       "      <td>0</td>\n",
       "    </tr>\n",
       "    <tr>\n",
       "      <th>913</th>\n",
       "      <td>g989</td>\n",
       "      <td>Propriva</td>\n",
       "      <td>Female</td>\n",
       "      <td>21</td>\n",
       "      <td>26</td>\n",
       "      <td>10</td>\n",
       "      <td>49.880528</td>\n",
       "      <td>0</td>\n",
       "    </tr>\n",
       "    <tr>\n",
       "      <th>914</th>\n",
       "      <td>g989</td>\n",
       "      <td>Propriva</td>\n",
       "      <td>Female</td>\n",
       "      <td>21</td>\n",
       "      <td>26</td>\n",
       "      <td>15</td>\n",
       "      <td>51.325852</td>\n",
       "      <td>1</td>\n",
       "    </tr>\n",
       "    <tr>\n",
       "      <th>915</th>\n",
       "      <td>g989</td>\n",
       "      <td>Propriva</td>\n",
       "      <td>Female</td>\n",
       "      <td>21</td>\n",
       "      <td>26</td>\n",
       "      <td>15</td>\n",
       "      <td>53.442020</td>\n",
       "      <td>0</td>\n",
       "    </tr>\n",
       "    <tr>\n",
       "      <th>916</th>\n",
       "      <td>g989</td>\n",
       "      <td>Propriva</td>\n",
       "      <td>Female</td>\n",
       "      <td>21</td>\n",
       "      <td>26</td>\n",
       "      <td>20</td>\n",
       "      <td>55.326122</td>\n",
       "      <td>1</td>\n",
       "    </tr>\n",
       "    <tr>\n",
       "      <th>917</th>\n",
       "      <td>g989</td>\n",
       "      <td>Propriva</td>\n",
       "      <td>Female</td>\n",
       "      <td>21</td>\n",
       "      <td>26</td>\n",
       "      <td>20</td>\n",
       "      <td>54.657650</td>\n",
       "      <td>1</td>\n",
       "    </tr>\n",
       "    <tr>\n",
       "      <th>918</th>\n",
       "      <td>g989</td>\n",
       "      <td>Propriva</td>\n",
       "      <td>Female</td>\n",
       "      <td>21</td>\n",
       "      <td>26</td>\n",
       "      <td>25</td>\n",
       "      <td>56.045564</td>\n",
       "      <td>1</td>\n",
       "    </tr>\n",
       "    <tr>\n",
       "      <th>919</th>\n",
       "      <td>g989</td>\n",
       "      <td>Propriva</td>\n",
       "      <td>Female</td>\n",
       "      <td>21</td>\n",
       "      <td>26</td>\n",
       "      <td>30</td>\n",
       "      <td>59.082294</td>\n",
       "      <td>1</td>\n",
       "    </tr>\n",
       "    <tr>\n",
       "      <th>920</th>\n",
       "      <td>g989</td>\n",
       "      <td>Propriva</td>\n",
       "      <td>Female</td>\n",
       "      <td>21</td>\n",
       "      <td>26</td>\n",
       "      <td>35</td>\n",
       "      <td>62.570880</td>\n",
       "      <td>2</td>\n",
       "    </tr>\n",
       "  </tbody>\n",
       "</table>\n",
       "</div>"
      ],
      "text/plain": [
       "    Mouse ID Drug Regimen     Sex  Age_months  Weight (g)  Timepoint  \\\n",
       "908     g989     Propriva  Female          21          26          0   \n",
       "909     g989     Propriva  Female          21          26          0   \n",
       "910     g989     Propriva  Female          21          26          5   \n",
       "911     g989     Propriva  Female          21          26          5   \n",
       "912     g989     Propriva  Female          21          26         10   \n",
       "913     g989     Propriva  Female          21          26         10   \n",
       "914     g989     Propriva  Female          21          26         15   \n",
       "915     g989     Propriva  Female          21          26         15   \n",
       "916     g989     Propriva  Female          21          26         20   \n",
       "917     g989     Propriva  Female          21          26         20   \n",
       "918     g989     Propriva  Female          21          26         25   \n",
       "919     g989     Propriva  Female          21          26         30   \n",
       "920     g989     Propriva  Female          21          26         35   \n",
       "\n",
       "     Tumor Volume (mm3)  Metastatic Sites  \n",
       "908           45.000000                 0  \n",
       "909           45.000000                 0  \n",
       "910           48.786801                 0  \n",
       "911           47.570392                 0  \n",
       "912           51.745156                 0  \n",
       "913           49.880528                 0  \n",
       "914           51.325852                 1  \n",
       "915           53.442020                 0  \n",
       "916           55.326122                 1  \n",
       "917           54.657650                 1  \n",
       "918           56.045564                 1  \n",
       "919           59.082294                 1  \n",
       "920           62.570880                 2  "
      ]
     },
     "execution_count": 8,
     "metadata": {},
     "output_type": "execute_result"
    }
   ],
   "source": [
    "#Display rows with Mouse ID of g989\n",
    "Mouse_StudyResults_Data_df.loc[Mouse_StudyResults_Data_df['Mouse ID'] == 'g989']\n"
   ]
  },
  {
   "cell_type": "code",
   "execution_count": 9,
   "id": "9f615561",
   "metadata": {},
   "outputs": [],
   "source": [
    "# Create a new data framme that contains data with out Mouse ID g989.  Data is unreliable for g989 so it will be removed fromt\n",
    "# the results\n",
    "Clean_Mouse_StudyResults_Data_df = Mouse_StudyResults_Data_df[Mouse_StudyResults_Data_df[\"Mouse ID\"] != 'g989']\n",
    "                                                              "
   ]
  },
  {
   "cell_type": "code",
   "execution_count": 10,
   "id": "88c5a39a",
   "metadata": {},
   "outputs": [
    {
     "data": {
      "text/html": [
       "<div>\n",
       "<style scoped>\n",
       "    .dataframe tbody tr th:only-of-type {\n",
       "        vertical-align: middle;\n",
       "    }\n",
       "\n",
       "    .dataframe tbody tr th {\n",
       "        vertical-align: top;\n",
       "    }\n",
       "\n",
       "    .dataframe thead th {\n",
       "        text-align: right;\n",
       "    }\n",
       "</style>\n",
       "<table border=\"1\" class=\"dataframe\">\n",
       "  <thead>\n",
       "    <tr style=\"text-align: right;\">\n",
       "      <th></th>\n",
       "      <th>Mouse ID</th>\n",
       "      <th>Drug Regimen</th>\n",
       "      <th>Sex</th>\n",
       "      <th>Age_months</th>\n",
       "      <th>Weight (g)</th>\n",
       "      <th>Timepoint</th>\n",
       "      <th>Tumor Volume (mm3)</th>\n",
       "      <th>Metastatic Sites</th>\n",
       "    </tr>\n",
       "  </thead>\n",
       "  <tbody>\n",
       "  </tbody>\n",
       "</table>\n",
       "</div>"
      ],
      "text/plain": [
       "Empty DataFrame\n",
       "Columns: [Mouse ID, Drug Regimen, Sex, Age_months, Weight (g), Timepoint, Tumor Volume (mm3), Metastatic Sites]\n",
       "Index: []"
      ]
     },
     "execution_count": 10,
     "metadata": {},
     "output_type": "execute_result"
    }
   ],
   "source": [
    "# Validate that mouse g989 has been removed\n",
    "Clean_Mouse_StudyResults_Data_df.loc[Clean_Mouse_StudyResults_Data_df['Mouse ID'] == 'g989']"
   ]
  },
  {
   "cell_type": "code",
   "execution_count": 11,
   "id": "19a9fb45",
   "metadata": {},
   "outputs": [
    {
     "data": {
      "text/plain": [
       "248"
      ]
     },
     "execution_count": 11,
     "metadata": {},
     "output_type": "execute_result"
    }
   ],
   "source": [
    "# Display the number of unique Mice IDs in the data set now that the duplicates have been removed.\n",
    "Clean_Mouse_StudyResults_Data_df[\"Mouse ID\"].nunique()"
   ]
  },
  {
   "cell_type": "code",
   "execution_count": 12,
   "id": "2f04802d",
   "metadata": {},
   "outputs": [
    {
     "data": {
      "text/html": [
       "<div>\n",
       "<style scoped>\n",
       "    .dataframe tbody tr th:only-of-type {\n",
       "        vertical-align: middle;\n",
       "    }\n",
       "\n",
       "    .dataframe tbody tr th {\n",
       "        vertical-align: top;\n",
       "    }\n",
       "\n",
       "    .dataframe thead th {\n",
       "        text-align: right;\n",
       "    }\n",
       "</style>\n",
       "<table border=\"1\" class=\"dataframe\">\n",
       "  <thead>\n",
       "    <tr style=\"text-align: right;\">\n",
       "      <th></th>\n",
       "      <th>Mouse ID</th>\n",
       "      <th>Timepoint</th>\n",
       "      <th>Num_Occur</th>\n",
       "    </tr>\n",
       "  </thead>\n",
       "  <tbody>\n",
       "  </tbody>\n",
       "</table>\n",
       "</div>"
      ],
      "text/plain": [
       "Empty DataFrame\n",
       "Columns: [Mouse ID, Timepoint, Num_Occur]\n",
       "Index: []"
      ]
     },
     "execution_count": 12,
     "metadata": {},
     "output_type": "execute_result"
    }
   ],
   "source": [
    "#Determine if any duplicates are left.\n",
    "Find_Dupes2_df = Clean_Mouse_StudyResults_Data_df.groupby(['Mouse ID','Timepoint']).size().to_frame('Num_Occur').reset_index()\n",
    "Find_Dupes2_df\n",
    "#Find_Dupes_df.head()\n",
    "\n",
    "Find_Dupes2_df.loc[Find_Dupes2_df['Num_Occur'] > 1]"
   ]
  },
  {
   "cell_type": "markdown",
   "id": "98425169",
   "metadata": {},
   "source": [
    "## Generate Summary Statistics"
   ]
  },
  {
   "cell_type": "code",
   "execution_count": 13,
   "id": "18b3a2ad",
   "metadata": {},
   "outputs": [
    {
     "data": {
      "text/html": [
       "<div>\n",
       "<style scoped>\n",
       "    .dataframe tbody tr th:only-of-type {\n",
       "        vertical-align: middle;\n",
       "    }\n",
       "\n",
       "    .dataframe tbody tr th {\n",
       "        vertical-align: top;\n",
       "    }\n",
       "\n",
       "    .dataframe thead th {\n",
       "        text-align: right;\n",
       "    }\n",
       "</style>\n",
       "<table border=\"1\" class=\"dataframe\">\n",
       "  <thead>\n",
       "    <tr style=\"text-align: right;\">\n",
       "      <th></th>\n",
       "      <th>Drug Regimen</th>\n",
       "      <th>Mean_TVmm</th>\n",
       "    </tr>\n",
       "  </thead>\n",
       "  <tbody>\n",
       "    <tr>\n",
       "      <th>0</th>\n",
       "      <td>Capomulin</td>\n",
       "      <td>40.675741</td>\n",
       "    </tr>\n",
       "    <tr>\n",
       "      <th>1</th>\n",
       "      <td>Ceftamin</td>\n",
       "      <td>52.591172</td>\n",
       "    </tr>\n",
       "    <tr>\n",
       "      <th>2</th>\n",
       "      <td>Infubinol</td>\n",
       "      <td>52.884795</td>\n",
       "    </tr>\n",
       "    <tr>\n",
       "      <th>3</th>\n",
       "      <td>Ketapril</td>\n",
       "      <td>55.235638</td>\n",
       "    </tr>\n",
       "    <tr>\n",
       "      <th>4</th>\n",
       "      <td>Naftisol</td>\n",
       "      <td>54.331565</td>\n",
       "    </tr>\n",
       "    <tr>\n",
       "      <th>5</th>\n",
       "      <td>Placebo</td>\n",
       "      <td>54.033581</td>\n",
       "    </tr>\n",
       "    <tr>\n",
       "      <th>6</th>\n",
       "      <td>Propriva</td>\n",
       "      <td>52.320930</td>\n",
       "    </tr>\n",
       "    <tr>\n",
       "      <th>7</th>\n",
       "      <td>Ramicane</td>\n",
       "      <td>40.216745</td>\n",
       "    </tr>\n",
       "    <tr>\n",
       "      <th>8</th>\n",
       "      <td>Stelasyn</td>\n",
       "      <td>54.233149</td>\n",
       "    </tr>\n",
       "    <tr>\n",
       "      <th>9</th>\n",
       "      <td>Zoniferol</td>\n",
       "      <td>53.236507</td>\n",
       "    </tr>\n",
       "  </tbody>\n",
       "</table>\n",
       "</div>"
      ],
      "text/plain": [
       "  Drug Regimen  Mean_TVmm\n",
       "0    Capomulin  40.675741\n",
       "1     Ceftamin  52.591172\n",
       "2    Infubinol  52.884795\n",
       "3     Ketapril  55.235638\n",
       "4     Naftisol  54.331565\n",
       "5      Placebo  54.033581\n",
       "6     Propriva  52.320930\n",
       "7     Ramicane  40.216745\n",
       "8     Stelasyn  54.233149\n",
       "9    Zoniferol  53.236507"
      ]
     },
     "execution_count": 13,
     "metadata": {},
     "output_type": "execute_result"
    }
   ],
   "source": [
    "# Find the Mean, Median, Variance, Standard Deviation, and SEM of the Tumor Volume (mm3) data for each drug\n",
    "Mean_of_Regiman = Clean_Mouse_StudyResults_Data_df.groupby('Drug Regimen')['Tumor Volume (mm3)'].mean().to_frame('Mean_TVmm').reset_index()\n",
    "Median_of_Regiman = Clean_Mouse_StudyResults_Data_df.groupby('Drug Regimen')['Tumor Volume (mm3)'].median().to_frame('Median_TV').reset_index()\n",
    "Variance_of_Regiman = Clean_Mouse_StudyResults_Data_df.groupby('Drug Regimen')['Tumor Volume (mm3)'].var().to_frame('Variance_TV').reset_index()\n",
    "STDVar_of_Regiman = Clean_Mouse_StudyResults_Data_df.groupby('Drug Regimen')['Tumor Volume (mm3)'].std().to_frame('STD_Dev_TV').reset_index()\n",
    "SEM_of_Regiman = Clean_Mouse_StudyResults_Data_df.groupby('Drug Regimen')['Tumor Volume (mm3)'].sem().to_frame('SEM_TV').reset_index()\n",
    "Mean_of_Regiman"
   ]
  },
  {
   "cell_type": "code",
   "execution_count": 14,
   "id": "67bbd866",
   "metadata": {},
   "outputs": [
    {
     "data": {
      "text/html": [
       "<div>\n",
       "<style scoped>\n",
       "    .dataframe tbody tr th:only-of-type {\n",
       "        vertical-align: middle;\n",
       "    }\n",
       "\n",
       "    .dataframe tbody tr th {\n",
       "        vertical-align: top;\n",
       "    }\n",
       "\n",
       "    .dataframe thead th {\n",
       "        text-align: right;\n",
       "    }\n",
       "</style>\n",
       "<table border=\"1\" class=\"dataframe\">\n",
       "  <thead>\n",
       "    <tr style=\"text-align: right;\">\n",
       "      <th></th>\n",
       "      <th>Drug Regimen</th>\n",
       "      <th>Mean_TVmm</th>\n",
       "      <th>Median_TV</th>\n",
       "      <th>Variance_TV</th>\n",
       "      <th>STD_Dev_TV</th>\n",
       "      <th>SEM_TV</th>\n",
       "    </tr>\n",
       "  </thead>\n",
       "  <tbody>\n",
       "    <tr>\n",
       "      <th>0</th>\n",
       "      <td>Capomulin</td>\n",
       "      <td>40.675741</td>\n",
       "      <td>41.557809</td>\n",
       "      <td>24.947764</td>\n",
       "      <td>4.994774</td>\n",
       "      <td>0.329346</td>\n",
       "    </tr>\n",
       "    <tr>\n",
       "      <th>1</th>\n",
       "      <td>Ceftamin</td>\n",
       "      <td>52.591172</td>\n",
       "      <td>51.776157</td>\n",
       "      <td>39.290177</td>\n",
       "      <td>6.268188</td>\n",
       "      <td>0.469821</td>\n",
       "    </tr>\n",
       "    <tr>\n",
       "      <th>2</th>\n",
       "      <td>Infubinol</td>\n",
       "      <td>52.884795</td>\n",
       "      <td>51.820584</td>\n",
       "      <td>43.128684</td>\n",
       "      <td>6.567243</td>\n",
       "      <td>0.492236</td>\n",
       "    </tr>\n",
       "    <tr>\n",
       "      <th>3</th>\n",
       "      <td>Ketapril</td>\n",
       "      <td>55.235638</td>\n",
       "      <td>53.698743</td>\n",
       "      <td>68.553577</td>\n",
       "      <td>8.279709</td>\n",
       "      <td>0.603860</td>\n",
       "    </tr>\n",
       "    <tr>\n",
       "      <th>4</th>\n",
       "      <td>Naftisol</td>\n",
       "      <td>54.331565</td>\n",
       "      <td>52.509285</td>\n",
       "      <td>66.173479</td>\n",
       "      <td>8.134708</td>\n",
       "      <td>0.596466</td>\n",
       "    </tr>\n",
       "    <tr>\n",
       "      <th>5</th>\n",
       "      <td>Placebo</td>\n",
       "      <td>54.033581</td>\n",
       "      <td>52.288934</td>\n",
       "      <td>61.168083</td>\n",
       "      <td>7.821003</td>\n",
       "      <td>0.581331</td>\n",
       "    </tr>\n",
       "    <tr>\n",
       "      <th>6</th>\n",
       "      <td>Propriva</td>\n",
       "      <td>52.320930</td>\n",
       "      <td>50.446266</td>\n",
       "      <td>43.852013</td>\n",
       "      <td>6.622085</td>\n",
       "      <td>0.544332</td>\n",
       "    </tr>\n",
       "    <tr>\n",
       "      <th>7</th>\n",
       "      <td>Ramicane</td>\n",
       "      <td>40.216745</td>\n",
       "      <td>40.673236</td>\n",
       "      <td>23.486704</td>\n",
       "      <td>4.846308</td>\n",
       "      <td>0.320955</td>\n",
       "    </tr>\n",
       "    <tr>\n",
       "      <th>8</th>\n",
       "      <td>Stelasyn</td>\n",
       "      <td>54.233149</td>\n",
       "      <td>52.431737</td>\n",
       "      <td>59.450562</td>\n",
       "      <td>7.710419</td>\n",
       "      <td>0.573111</td>\n",
       "    </tr>\n",
       "    <tr>\n",
       "      <th>9</th>\n",
       "      <td>Zoniferol</td>\n",
       "      <td>53.236507</td>\n",
       "      <td>51.818479</td>\n",
       "      <td>48.533355</td>\n",
       "      <td>6.966589</td>\n",
       "      <td>0.516398</td>\n",
       "    </tr>\n",
       "  </tbody>\n",
       "</table>\n",
       "</div>"
      ],
      "text/plain": [
       "  Drug Regimen  Mean_TVmm  Median_TV  Variance_TV  STD_Dev_TV    SEM_TV\n",
       "0    Capomulin  40.675741  41.557809    24.947764    4.994774  0.329346\n",
       "1     Ceftamin  52.591172  51.776157    39.290177    6.268188  0.469821\n",
       "2    Infubinol  52.884795  51.820584    43.128684    6.567243  0.492236\n",
       "3     Ketapril  55.235638  53.698743    68.553577    8.279709  0.603860\n",
       "4     Naftisol  54.331565  52.509285    66.173479    8.134708  0.596466\n",
       "5      Placebo  54.033581  52.288934    61.168083    7.821003  0.581331\n",
       "6     Propriva  52.320930  50.446266    43.852013    6.622085  0.544332\n",
       "7     Ramicane  40.216745  40.673236    23.486704    4.846308  0.320955\n",
       "8     Stelasyn  54.233149  52.431737    59.450562    7.710419  0.573111\n",
       "9    Zoniferol  53.236507  51.818479    48.533355    6.966589  0.516398"
      ]
     },
     "execution_count": 14,
     "metadata": {},
     "output_type": "execute_result"
    }
   ],
   "source": [
    "# Create a new dataframe with a summary of the statistics found above by merging the individual\n",
    "# dataframes together on Drug Regimen\n",
    "Stats_Summary1 = pd.merge(Mean_of_Regiman,Median_of_Regiman,on=[\"Drug Regimen\",\"Drug Regimen\"])\n",
    "Stats_Summary2 = pd.merge(Stats_Summary1,Variance_of_Regiman,on=[\"Drug Regimen\",\"Drug Regimen\"])\n",
    "Stats_Summary3 = pd.merge(Stats_Summary2,STDVar_of_Regiman,on=[\"Drug Regimen\",\"Drug Regimen\"])\n",
    "Stats_Summary = pd.merge(Stats_Summary3,SEM_of_Regiman,on=[\"Drug Regimen\",\"Drug Regimen\"])\n",
    "Stats_Summary\n"
   ]
  },
  {
   "cell_type": "markdown",
   "id": "e73fbd74",
   "metadata": {},
   "source": [
    "## Create Bar Charts and Pie Charts"
   ]
  },
  {
   "cell_type": "code",
   "execution_count": 15,
   "id": "d7bdc9ba",
   "metadata": {},
   "outputs": [
    {
     "data": {
      "text/plain": [
       "<Axes: xlabel='Drug Regimen', ylabel='# of Observed Mouse Timepoints'>"
      ]
     },
     "execution_count": 15,
     "metadata": {},
     "output_type": "execute_result"
    },
    {
     "data": {
      "image/png": "[encoded data removed]",
      "text/plain": [
       "<Figure size 640x480 with 1 Axes>"
      ]
     },
     "metadata": {},
     "output_type": "display_data"
    }
   ],
   "source": [
    "# Use Dataframe.plot to create a bar chart\n",
    "Clean_Mouse_StudyResults_Data_df.groupby(['Drug Regimen',]).size().plot(kind='bar',rot=45,\n",
    "                                            fontsize=10, color='b',\n",
    "                                            xlabel=\"Drug Regimen\",\n",
    "                                            ylabel=\"# of Observed Mouse Timepoints\")"
   ]
  },
  {
   "cell_type": "code",
   "execution_count": 16,
   "id": "d04ee949",
   "metadata": {},
   "outputs": [
    {
     "data": {
      "text/plain": [
       "<function matplotlib.pyplot.show(close=None, block=None)>"
      ]
     },
     "execution_count": 16,
     "metadata": {},
     "output_type": "execute_result"
    },
    {
     "data": {
      "image/png": "[encoded data removed]",
      "text/plain": [
       "<Figure size 640x480 with 1 Axes>"
      ]
     },
     "metadata": {},
     "output_type": "display_data"
    }
   ],
   "source": [
    "#Use matplotlib to create bar chart.\n",
    "Drug_Timepoints_df = Clean_Mouse_StudyResults_Data_df.groupby(['Drug Regimen',]).size().to_frame('Num_Occur').reset_index()\n",
    "Drug_Timepoints_df.set_index(\"Drug Regimen\")\n",
    "Drug_Timepoints_df.plot(kind='bar')\n",
    "plt.xlabel('Drug Regiment')\n",
    "plt.ylabel('# of Observed Mouse Timepoints')\n",
    "#x_axis = int(10)\n",
    "#tick_locations = [ for value in x_axis]\n",
    "#plt.bar(x_axis,alpha=.5,align=\"center\",height=9)\n",
    "plt.xticks([0,1,2,3,4,5,6,7,8,9], [\"Capomulin\",\"Ceftamin\",\"Infubinol\",\"Ketapril\",\"Naftisol\",\"Placebo\",\"Propriva\",\"Ramicane\",\"Stelasyn\",\"Zoniferol\"],rotation=45)\n",
    "\n",
    "plt.show"
   ]
  },
  {
   "cell_type": "code",
   "execution_count": null,
   "id": "83780289",
   "metadata": {},
   "outputs": [],
   "source": []
  },
  {
   "cell_type": "code",
   "execution_count": 17,
   "id": "013e3e35",
   "metadata": {},
   "outputs": [
    {
     "data": {
      "text/plain": [
       "<Axes: ylabel='Sex'>"
      ]
     },
     "execution_count": 17,
     "metadata": {},
     "output_type": "execute_result"
    },
    {
     "data": {
      "image/png": "[encoded data removed]",
      "text/plain": [
       "<Figure size 640x480 with 1 Axes>"
      ]
     },
     "metadata": {},
     "output_type": "display_data"
    }
   ],
   "source": [
    "## Use Dataframe.plot to create a pie chart\n",
    "Clean_Mouse_StudyResults_Data_df.groupby(['Sex',]).size().plot(kind='pie',ylabel='Sex',autopct='%1.0f%%')\n"
   ]
  },
  {
   "cell_type": "code",
   "execution_count": 18,
   "id": "f6390b30",
   "metadata": {},
   "outputs": [
    {
     "data": {
      "text/plain": [
       "Text(0, 0.5, 'Sex')"
      ]
     },
     "execution_count": 18,
     "metadata": {},
     "output_type": "execute_result"
    },
    {
     "data": {
      "image/png": "[encoded data removed]",
      "text/plain": [
       "<Figure size 640x480 with 1 Axes>"
      ]
     },
     "metadata": {},
     "output_type": "display_data"
    }
   ],
   "source": [
    "# Use pyplot to create a bar chart\n",
    "Mouse_Sex_df = Clean_Mouse_StudyResults_Data_df.groupby(['Sex',]).size().to_frame('Num_Occur').reset_index()\n",
    "Mouse_Sex_df\n",
    "Number_of_Occurs = Mouse_Sex_df['Num_Occur']\n",
    "Sex_Labels =  Mouse_Sex_df['Sex']\n",
    "Sex_Labels\n",
    "plt.pie(Mouse_Sex_df['Num_Occur'], labels = Sex_Labels, autopct='%1.1f%%')\n",
    "plt.ylabel('Sex')\n"
   ]
  },
  {
   "cell_type": "markdown",
   "id": "6700fe7e",
   "metadata": {},
   "source": [
    "## Calculate Quartiles"
   ]
  },
  {
   "cell_type": "code",
   "execution_count": 19,
   "id": "4718f3c9",
   "metadata": {},
   "outputs": [],
   "source": [
    "#the last (greatest) timepoint for each mouse\n",
    "Max_Timepoint_Mouse_StudyResult_df = Clean_Mouse_StudyResults_Data_df.groupby(\"Mouse ID\")[\"Timepoint\"].max().reset_index()\n",
    "#Max_Timepoint_Mouse_StudyResult_df"
   ]
  },
  {
   "cell_type": "code",
   "execution_count": 20,
   "id": "aa681d4d",
   "metadata": {},
   "outputs": [
    {
     "data": {
      "text/html": [
       "<div>\n",
       "<style scoped>\n",
       "    .dataframe tbody tr th:only-of-type {\n",
       "        vertical-align: middle;\n",
       "    }\n",
       "\n",
       "    .dataframe tbody tr th {\n",
       "        vertical-align: top;\n",
       "    }\n",
       "\n",
       "    .dataframe thead th {\n",
       "        text-align: right;\n",
       "    }\n",
       "</style>\n",
       "<table border=\"1\" class=\"dataframe\">\n",
       "  <thead>\n",
       "    <tr style=\"text-align: right;\">\n",
       "      <th></th>\n",
       "      <th>Mouse ID</th>\n",
       "      <th>Timepoint</th>\n",
       "      <th>Drug Regimen</th>\n",
       "      <th>Sex</th>\n",
       "      <th>Age_months</th>\n",
       "      <th>Weight (g)</th>\n",
       "      <th>Tumor Volume (mm3)</th>\n",
       "      <th>Metastatic Sites</th>\n",
       "    </tr>\n",
       "  </thead>\n",
       "  <tbody>\n",
       "    <tr>\n",
       "      <th>0</th>\n",
       "      <td>a203</td>\n",
       "      <td>45</td>\n",
       "      <td>Infubinol</td>\n",
       "      <td>Female</td>\n",
       "      <td>20</td>\n",
       "      <td>23</td>\n",
       "      <td>67.973419</td>\n",
       "      <td>2</td>\n",
       "    </tr>\n",
       "    <tr>\n",
       "      <th>1</th>\n",
       "      <td>a251</td>\n",
       "      <td>45</td>\n",
       "      <td>Infubinol</td>\n",
       "      <td>Female</td>\n",
       "      <td>21</td>\n",
       "      <td>25</td>\n",
       "      <td>65.525743</td>\n",
       "      <td>1</td>\n",
       "    </tr>\n",
       "    <tr>\n",
       "      <th>2</th>\n",
       "      <td>a262</td>\n",
       "      <td>45</td>\n",
       "      <td>Placebo</td>\n",
       "      <td>Female</td>\n",
       "      <td>17</td>\n",
       "      <td>29</td>\n",
       "      <td>70.717621</td>\n",
       "      <td>4</td>\n",
       "    </tr>\n",
       "    <tr>\n",
       "      <th>3</th>\n",
       "      <td>a275</td>\n",
       "      <td>45</td>\n",
       "      <td>Ceftamin</td>\n",
       "      <td>Female</td>\n",
       "      <td>20</td>\n",
       "      <td>28</td>\n",
       "      <td>62.999356</td>\n",
       "      <td>3</td>\n",
       "    </tr>\n",
       "    <tr>\n",
       "      <th>4</th>\n",
       "      <td>a366</td>\n",
       "      <td>30</td>\n",
       "      <td>Stelasyn</td>\n",
       "      <td>Female</td>\n",
       "      <td>16</td>\n",
       "      <td>29</td>\n",
       "      <td>63.440686</td>\n",
       "      <td>1</td>\n",
       "    </tr>\n",
       "  </tbody>\n",
       "</table>\n",
       "</div>"
      ],
      "text/plain": [
       "  Mouse ID  Timepoint Drug Regimen     Sex  Age_months  Weight (g)  \\\n",
       "0     a203         45    Infubinol  Female          20          23   \n",
       "1     a251         45    Infubinol  Female          21          25   \n",
       "2     a262         45      Placebo  Female          17          29   \n",
       "3     a275         45     Ceftamin  Female          20          28   \n",
       "4     a366         30     Stelasyn  Female          16          29   \n",
       "\n",
       "   Tumor Volume (mm3)  Metastatic Sites  \n",
       "0           67.973419                 2  \n",
       "1           65.525743                 1  \n",
       "2           70.717621                 4  \n",
       "3           62.999356                 3  \n",
       "4           63.440686                 1  "
      ]
     },
     "execution_count": 20,
     "metadata": {},
     "output_type": "execute_result"
    }
   ],
   "source": [
    "Clean_MAX_TP_Mouse_StudyResult_df = pd.merge(Max_Timepoint_Mouse_StudyResult_df[['Mouse ID','Timepoint']],\n",
    "                                             Clean_Mouse_StudyResults_Data_df[['Mouse ID','Timepoint','Drug Regimen',\n",
    "                                                                              'Sex','Age_months','Weight (g)',\n",
    "                                                                               'Tumor Volume (mm3)','Metastatic Sites']],\n",
    "                                             on=[\"Mouse ID\",\"Timepoint\"])\n",
    "Clean_MAX_TP_Mouse_StudyResult_df.head()"
   ]
  },
  {
   "cell_type": "code",
   "execution_count": 21,
   "id": "4c503b59",
   "metadata": {},
   "outputs": [],
   "source": [
    "# Put treatments into a list for for loop\n",
    "Treatment_Group = ['Capomulin','Ramicane','Infubinol','Ceftamin']\n"
   ]
  },
  {
   "cell_type": "code",
   "execution_count": 22,
   "id": "04a389f8",
   "metadata": {},
   "outputs": [
    {
     "data": {
      "text/plain": [
       "[]"
      ]
     },
     "execution_count": 22,
     "metadata": {},
     "output_type": "execute_result"
    }
   ],
   "source": [
    "#empty list to fill with tumor vol data\n",
    "Tumor_Volume_Data = []\n",
    "Tumor_Volume_Data\n"
   ]
  },
  {
   "cell_type": "code",
   "execution_count": 23,
   "id": "65e0c12c",
   "metadata": {},
   "outputs": [
    {
     "name": "stdout",
     "output_type": "stream",
     "text": [
      "3rd Quartile for Capomulin is 40.1592203\n",
      "1st Quartile for Capomulin is 32.37735684\n",
      "         IQR for Capomulin is 7.781863460000004\n",
      "===========================================\n",
      "3rd Quartile for Ramicane is 40.65900627\n",
      "1st Quartile for Ramicane is 31.56046955\n",
      "         IQR for Ramicane is 9.098536719999998\n",
      "===========================================\n",
      "3rd Quartile for Infubinol is 65.52574285\n",
      "1st Quartile for Infubinol is 54.04860769\n",
      "         IQR for Infubinol is 11.477135160000003\n",
      "===========================================\n",
      "3rd Quartile for Ceftamin is 64.29983003\n",
      "1st Quartile for Ceftamin is 48.72207785\n",
      "         IQR for Ceftamin is 15.577752179999997\n",
      "===========================================\n"
     ]
    }
   ],
   "source": [
    "# Determine IQR for 4 drug regimens and save data in Tumor_Volume_Data list\n",
    "for trmnt in Treatment_Group:\n",
    "    TV_Data = Clean_MAX_TP_Mouse_StudyResult_df[['Drug Regimen','Tumor Volume (mm3)']].loc[Clean_MAX_TP_Mouse_StudyResult_df['Drug Regimen'] == trmnt]\n",
    "    Q3 = np.quantile(TV_Data[\"Tumor Volume (mm3)\"], 0.75)\n",
    "    Q1 = np.quantile(TV_Data[\"Tumor Volume (mm3)\"], 0.25)\n",
    "    IQR = Q3 - Q1\n",
    "    #print(TV_Data)\n",
    "    append_data = TV_Data[['Drug Regimen','Tumor Volume (mm3)']] \n",
    "    Tumor_Volume_Data.append(append_data)\n",
    "    print(f\"3rd Quartile for {trmnt} is {Q3}\" )\n",
    "    print(f\"1st Quartile for {trmnt} is {Q1}\" )\n",
    "    print(f\"         IQR for {trmnt} is {IQR}\" )\n",
    "\n",
    "    print(\"===========================================\")\n",
    "\n",
    "    "
   ]
  },
  {
   "cell_type": "markdown",
   "id": "27ebb159",
   "metadata": {},
   "source": [
    "# Box Plot using Clean_MAX_TP_Mouse_StudyResult_df"
   ]
  },
  {
   "cell_type": "code",
   "execution_count": 24,
   "id": "b1760730",
   "metadata": {},
   "outputs": [
    {
     "data": {
      "text/plain": [
       "[    Drug Regimen  Tumor Volume (mm3)\n",
       " 19     Capomulin           38.982878\n",
       " 24     Capomulin           38.939633\n",
       " 61     Capomulin           30.485985\n",
       " 64     Capomulin           37.074024\n",
       " 66     Capomulin           40.159220\n",
       " 80     Capomulin           47.685963\n",
       " 83     Capomulin           37.311846\n",
       " 85     Capomulin           38.125164\n",
       " 87     Capomulin           38.753265\n",
       " 108    Capomulin           41.483008\n",
       " 115    Capomulin           38.846876\n",
       " 121    Capomulin           28.430964\n",
       " 124    Capomulin           33.329098\n",
       " 162    Capomulin           46.539206\n",
       " 163    Capomulin           32.377357\n",
       " 169    Capomulin           41.581521\n",
       " 174    Capomulin           23.343598\n",
       " 180    Capomulin           40.728578\n",
       " 183    Capomulin           34.455298\n",
       " 192    Capomulin           31.023923\n",
       " 204    Capomulin           40.658124\n",
       " 208    Capomulin           39.952347\n",
       " 220    Capomulin           36.041047\n",
       " 226    Capomulin           28.484033\n",
       " 239    Capomulin           31.896238,\n",
       "     Drug Regimen  Tumor Volume (mm3)\n",
       " 6       Ramicane           38.407618\n",
       " 7       Ramicane           43.047543\n",
       " 10      Ramicane           38.810366\n",
       " 12      Ramicane           32.978522\n",
       " 33      Ramicane           38.342008\n",
       " 37      Ramicane           33.397653\n",
       " 45      Ramicane           37.311236\n",
       " 52      Ramicane           40.659006\n",
       " 70      Ramicane           29.128472\n",
       " 76      Ramicane           33.562402\n",
       " 77      Ramicane           36.374510\n",
       " 91      Ramicane           31.560470\n",
       " 93      Ramicane           36.134852\n",
       " 96      Ramicane           22.050126\n",
       " 119     Ramicane           30.564625\n",
       " 126     Ramicane           31.095335\n",
       " 157     Ramicane           45.220869\n",
       " 158     Ramicane           36.561652\n",
       " 166     Ramicane           37.225650\n",
       " 168     Ramicane           43.419381\n",
       " 177     Ramicane           30.276232\n",
       " 190     Ramicane           40.667713\n",
       " 217     Ramicane           43.166373\n",
       " 235     Ramicane           44.183451\n",
       " 244     Ramicane           30.638696,\n",
       "     Drug Regimen  Tumor Volume (mm3)\n",
       " 0      Infubinol           67.973419\n",
       " 1      Infubinol           65.525743\n",
       " 11     Infubinol           57.031862\n",
       " 13     Infubinol           66.083066\n",
       " 27     Infubinol           72.226731\n",
       " 31     Infubinol           36.321346\n",
       " 41     Infubinol           60.969711\n",
       " 50     Infubinol           62.435404\n",
       " 56     Infubinol           60.918767\n",
       " 78     Infubinol           67.289621\n",
       " 97     Infubinol           66.196912\n",
       " 101    Infubinol           62.117279\n",
       " 123    Infubinol           47.010364\n",
       " 129    Infubinol           60.165180\n",
       " 141    Infubinol           55.629428\n",
       " 142    Infubinol           45.699331\n",
       " 153    Infubinol           54.656549\n",
       " 170    Infubinol           55.650681\n",
       " 197    Infubinol           46.250112\n",
       " 200    Infubinol           54.048608\n",
       " 202    Infubinol           51.542431\n",
       " 211    Infubinol           50.005138\n",
       " 216    Infubinol           58.268442\n",
       " 233    Infubinol           67.685569\n",
       " 245    Infubinol           62.754451,\n",
       "     Drug Regimen  Tumor Volume (mm3)\n",
       " 3       Ceftamin           62.999356\n",
       " 21      Ceftamin           45.000000\n",
       " 22      Ceftamin           56.057749\n",
       " 25      Ceftamin           55.742829\n",
       " 58      Ceftamin           48.722078\n",
       " 75      Ceftamin           47.784682\n",
       " 88      Ceftamin           61.849023\n",
       " 94      Ceftamin           68.923185\n",
       " 106     Ceftamin           67.748662\n",
       " 107     Ceftamin           57.918381\n",
       " 109     Ceftamin           46.784535\n",
       " 110     Ceftamin           59.851956\n",
       " 113     Ceftamin           64.299830\n",
       " 134     Ceftamin           59.741901\n",
       " 150     Ceftamin           61.433892\n",
       " 154     Ceftamin           64.192341\n",
       " 184     Ceftamin           45.000000\n",
       " 188     Ceftamin           52.925348\n",
       " 189     Ceftamin           45.000000\n",
       " 209     Ceftamin           67.527482\n",
       " 223     Ceftamin           45.000000\n",
       " 228     Ceftamin           64.634949\n",
       " 231     Ceftamin           61.386660\n",
       " 238     Ceftamin           68.594745\n",
       " 240     Ceftamin           64.729837]"
      ]
     },
     "execution_count": 24,
     "metadata": {},
     "output_type": "execute_result"
    }
   ],
   "source": [
    "# Save Tumor_Volume_Data from above in a list\n",
    "Tumor_Volume_Data"
   ]
  },
  {
   "cell_type": "code",
   "execution_count": 25,
   "id": "fc13687f",
   "metadata": {},
   "outputs": [
    {
     "ename": "ValueError",
     "evalue": "X must have 2 or fewer dimensions",
     "output_type": "error",
     "traceback": [
      "\u001b[1;31m---------------------------------------------------------------------------\u001b[0m",
      "\u001b[1;31mValueError\u001b[0m                                Traceback (most recent call last)",
      "Cell \u001b[1;32mIn[25], line 5\u001b[0m\n\u001b[0;32m      2\u001b[0m fig \u001b[38;5;241m=\u001b[39m plt\u001b[38;5;241m.\u001b[39mfigure(figsize \u001b[38;5;241m=\u001b[39m(\u001b[38;5;241m15\u001b[39m, \u001b[38;5;241m8\u001b[39m))\n\u001b[0;32m      4\u001b[0m \u001b[38;5;66;03m# Creating plot\u001b[39;00m\n\u001b[1;32m----> 5\u001b[0m \u001b[43mplt\u001b[49m\u001b[38;5;241;43m.\u001b[39;49m\u001b[43mboxplot\u001b[49m\u001b[43m(\u001b[49m\u001b[43mTumor_Volume_Data\u001b[49m\u001b[43m)\u001b[49m\n\u001b[0;32m      7\u001b[0m \u001b[38;5;66;03m# show plot\u001b[39;00m\n\u001b[0;32m      8\u001b[0m plt\u001b[38;5;241m.\u001b[39mshow()\n",
      "File \u001b[1;32m~\\anaconda3\\envs\\dev\\lib\\site-packages\\matplotlib\\pyplot.py:2483\u001b[0m, in \u001b[0;36mboxplot\u001b[1;34m(x, notch, sym, vert, whis, positions, widths, patch_artist, bootstrap, usermedians, conf_intervals, meanline, showmeans, showcaps, showbox, showfliers, boxprops, labels, flierprops, medianprops, meanprops, capprops, whiskerprops, manage_ticks, autorange, zorder, capwidths, data)\u001b[0m\n\u001b[0;32m   2473\u001b[0m \u001b[38;5;129m@_copy_docstring_and_deprecators\u001b[39m(Axes\u001b[38;5;241m.\u001b[39mboxplot)\n\u001b[0;32m   2474\u001b[0m \u001b[38;5;28;01mdef\u001b[39;00m \u001b[38;5;21mboxplot\u001b[39m(\n\u001b[0;32m   2475\u001b[0m         x, notch\u001b[38;5;241m=\u001b[39m\u001b[38;5;28;01mNone\u001b[39;00m, sym\u001b[38;5;241m=\u001b[39m\u001b[38;5;28;01mNone\u001b[39;00m, vert\u001b[38;5;241m=\u001b[39m\u001b[38;5;28;01mNone\u001b[39;00m, whis\u001b[38;5;241m=\u001b[39m\u001b[38;5;28;01mNone\u001b[39;00m,\n\u001b[1;32m   (...)\u001b[0m\n\u001b[0;32m   2481\u001b[0m         whiskerprops\u001b[38;5;241m=\u001b[39m\u001b[38;5;28;01mNone\u001b[39;00m, manage_ticks\u001b[38;5;241m=\u001b[39m\u001b[38;5;28;01mTrue\u001b[39;00m, autorange\u001b[38;5;241m=\u001b[39m\u001b[38;5;28;01mFalse\u001b[39;00m,\n\u001b[0;32m   2482\u001b[0m         zorder\u001b[38;5;241m=\u001b[39m\u001b[38;5;28;01mNone\u001b[39;00m, capwidths\u001b[38;5;241m=\u001b[39m\u001b[38;5;28;01mNone\u001b[39;00m, \u001b[38;5;241m*\u001b[39m, data\u001b[38;5;241m=\u001b[39m\u001b[38;5;28;01mNone\u001b[39;00m):\n\u001b[1;32m-> 2483\u001b[0m     \u001b[38;5;28;01mreturn\u001b[39;00m gca()\u001b[38;5;241m.\u001b[39mboxplot(\n\u001b[0;32m   2484\u001b[0m         x, notch\u001b[38;5;241m=\u001b[39mnotch, sym\u001b[38;5;241m=\u001b[39msym, vert\u001b[38;5;241m=\u001b[39mvert, whis\u001b[38;5;241m=\u001b[39mwhis,\n\u001b[0;32m   2485\u001b[0m         positions\u001b[38;5;241m=\u001b[39mpositions, widths\u001b[38;5;241m=\u001b[39mwidths, patch_artist\u001b[38;5;241m=\u001b[39mpatch_artist,\n\u001b[0;32m   2486\u001b[0m         bootstrap\u001b[38;5;241m=\u001b[39mbootstrap, usermedians\u001b[38;5;241m=\u001b[39musermedians,\n\u001b[0;32m   2487\u001b[0m         conf_intervals\u001b[38;5;241m=\u001b[39mconf_intervals, meanline\u001b[38;5;241m=\u001b[39mmeanline,\n\u001b[0;32m   2488\u001b[0m         showmeans\u001b[38;5;241m=\u001b[39mshowmeans, showcaps\u001b[38;5;241m=\u001b[39mshowcaps, showbox\u001b[38;5;241m=\u001b[39mshowbox,\n\u001b[0;32m   2489\u001b[0m         showfliers\u001b[38;5;241m=\u001b[39mshowfliers, boxprops\u001b[38;5;241m=\u001b[39mboxprops, labels\u001b[38;5;241m=\u001b[39mlabels,\n\u001b[0;32m   2490\u001b[0m         flierprops\u001b[38;5;241m=\u001b[39mflierprops, medianprops\u001b[38;5;241m=\u001b[39mmedianprops,\n\u001b[0;32m   2491\u001b[0m         meanprops\u001b[38;5;241m=\u001b[39mmeanprops, capprops\u001b[38;5;241m=\u001b[39mcapprops,\n\u001b[0;32m   2492\u001b[0m         whiskerprops\u001b[38;5;241m=\u001b[39mwhiskerprops, manage_ticks\u001b[38;5;241m=\u001b[39mmanage_ticks,\n\u001b[0;32m   2493\u001b[0m         autorange\u001b[38;5;241m=\u001b[39mautorange, zorder\u001b[38;5;241m=\u001b[39mzorder, capwidths\u001b[38;5;241m=\u001b[39mcapwidths,\n\u001b[0;32m   2494\u001b[0m         \u001b[38;5;241m*\u001b[39m\u001b[38;5;241m*\u001b[39m({\u001b[38;5;124m\"\u001b[39m\u001b[38;5;124mdata\u001b[39m\u001b[38;5;124m\"\u001b[39m: data} \u001b[38;5;28;01mif\u001b[39;00m data \u001b[38;5;129;01mis\u001b[39;00m \u001b[38;5;129;01mnot\u001b[39;00m \u001b[38;5;28;01mNone\u001b[39;00m \u001b[38;5;28;01melse\u001b[39;00m {}))\n",
      "File \u001b[1;32m~\\anaconda3\\envs\\dev\\lib\\site-packages\\matplotlib\\__init__.py:1442\u001b[0m, in \u001b[0;36m_preprocess_data.<locals>.inner\u001b[1;34m(ax, data, *args, **kwargs)\u001b[0m\n\u001b[0;32m   1439\u001b[0m \u001b[38;5;129m@functools\u001b[39m\u001b[38;5;241m.\u001b[39mwraps(func)\n\u001b[0;32m   1440\u001b[0m \u001b[38;5;28;01mdef\u001b[39;00m \u001b[38;5;21minner\u001b[39m(ax, \u001b[38;5;241m*\u001b[39margs, data\u001b[38;5;241m=\u001b[39m\u001b[38;5;28;01mNone\u001b[39;00m, \u001b[38;5;241m*\u001b[39m\u001b[38;5;241m*\u001b[39mkwargs):\n\u001b[0;32m   1441\u001b[0m     \u001b[38;5;28;01mif\u001b[39;00m data \u001b[38;5;129;01mis\u001b[39;00m \u001b[38;5;28;01mNone\u001b[39;00m:\n\u001b[1;32m-> 1442\u001b[0m         \u001b[38;5;28;01mreturn\u001b[39;00m func(ax, \u001b[38;5;241m*\u001b[39m\u001b[38;5;28mmap\u001b[39m(sanitize_sequence, args), \u001b[38;5;241m*\u001b[39m\u001b[38;5;241m*\u001b[39mkwargs)\n\u001b[0;32m   1444\u001b[0m     bound \u001b[38;5;241m=\u001b[39m new_sig\u001b[38;5;241m.\u001b[39mbind(ax, \u001b[38;5;241m*\u001b[39margs, \u001b[38;5;241m*\u001b[39m\u001b[38;5;241m*\u001b[39mkwargs)\n\u001b[0;32m   1445\u001b[0m     auto_label \u001b[38;5;241m=\u001b[39m (bound\u001b[38;5;241m.\u001b[39marguments\u001b[38;5;241m.\u001b[39mget(label_namer)\n\u001b[0;32m   1446\u001b[0m                   \u001b[38;5;129;01mor\u001b[39;00m bound\u001b[38;5;241m.\u001b[39mkwargs\u001b[38;5;241m.\u001b[39mget(label_namer))\n",
      "File \u001b[1;32m~\\anaconda3\\envs\\dev\\lib\\site-packages\\matplotlib\\axes\\_axes.py:3914\u001b[0m, in \u001b[0;36mAxes.boxplot\u001b[1;34m(self, x, notch, sym, vert, whis, positions, widths, patch_artist, bootstrap, usermedians, conf_intervals, meanline, showmeans, showcaps, showbox, showfliers, boxprops, labels, flierprops, medianprops, meanprops, capprops, whiskerprops, manage_ticks, autorange, zorder, capwidths)\u001b[0m\n\u001b[0;32m   3911\u001b[0m \u001b[38;5;28;01mif\u001b[39;00m bootstrap \u001b[38;5;129;01mis\u001b[39;00m \u001b[38;5;28;01mNone\u001b[39;00m:\n\u001b[0;32m   3912\u001b[0m     bootstrap \u001b[38;5;241m=\u001b[39m mpl\u001b[38;5;241m.\u001b[39mrcParams[\u001b[38;5;124m'\u001b[39m\u001b[38;5;124mboxplot.bootstrap\u001b[39m\u001b[38;5;124m'\u001b[39m]\n\u001b[1;32m-> 3914\u001b[0m bxpstats \u001b[38;5;241m=\u001b[39m \u001b[43mcbook\u001b[49m\u001b[38;5;241;43m.\u001b[39;49m\u001b[43mboxplot_stats\u001b[49m\u001b[43m(\u001b[49m\u001b[43mx\u001b[49m\u001b[43m,\u001b[49m\u001b[43m \u001b[49m\u001b[43mwhis\u001b[49m\u001b[38;5;241;43m=\u001b[39;49m\u001b[43mwhis\u001b[49m\u001b[43m,\u001b[49m\u001b[43m \u001b[49m\u001b[43mbootstrap\u001b[49m\u001b[38;5;241;43m=\u001b[39;49m\u001b[43mbootstrap\u001b[49m\u001b[43m,\u001b[49m\n\u001b[0;32m   3915\u001b[0m \u001b[43m                               \u001b[49m\u001b[43mlabels\u001b[49m\u001b[38;5;241;43m=\u001b[39;49m\u001b[43mlabels\u001b[49m\u001b[43m,\u001b[49m\u001b[43m \u001b[49m\u001b[43mautorange\u001b[49m\u001b[38;5;241;43m=\u001b[39;49m\u001b[43mautorange\u001b[49m\u001b[43m)\u001b[49m\n\u001b[0;32m   3916\u001b[0m \u001b[38;5;28;01mif\u001b[39;00m notch \u001b[38;5;129;01mis\u001b[39;00m \u001b[38;5;28;01mNone\u001b[39;00m:\n\u001b[0;32m   3917\u001b[0m     notch \u001b[38;5;241m=\u001b[39m mpl\u001b[38;5;241m.\u001b[39mrcParams[\u001b[38;5;124m'\u001b[39m\u001b[38;5;124mboxplot.notch\u001b[39m\u001b[38;5;124m'\u001b[39m]\n",
      "File \u001b[1;32m~\\anaconda3\\envs\\dev\\lib\\site-packages\\matplotlib\\cbook\\__init__.py:1192\u001b[0m, in \u001b[0;36mboxplot_stats\u001b[1;34m(X, whis, bootstrap, labels, autorange)\u001b[0m\n\u001b[0;32m   1189\u001b[0m bxpstats \u001b[38;5;241m=\u001b[39m []\n\u001b[0;32m   1191\u001b[0m \u001b[38;5;66;03m# convert X to a list of lists\u001b[39;00m\n\u001b[1;32m-> 1192\u001b[0m X \u001b[38;5;241m=\u001b[39m \u001b[43m_reshape_2D\u001b[49m\u001b[43m(\u001b[49m\u001b[43mX\u001b[49m\u001b[43m,\u001b[49m\u001b[43m \u001b[49m\u001b[38;5;124;43m\"\u001b[39;49m\u001b[38;5;124;43mX\u001b[39;49m\u001b[38;5;124;43m\"\u001b[39;49m\u001b[43m)\u001b[49m\n\u001b[0;32m   1194\u001b[0m ncols \u001b[38;5;241m=\u001b[39m \u001b[38;5;28mlen\u001b[39m(X)\n\u001b[0;32m   1195\u001b[0m \u001b[38;5;28;01mif\u001b[39;00m labels \u001b[38;5;129;01mis\u001b[39;00m \u001b[38;5;28;01mNone\u001b[39;00m:\n",
      "File \u001b[1;32m~\\anaconda3\\envs\\dev\\lib\\site-packages\\matplotlib\\cbook\\__init__.py:1402\u001b[0m, in \u001b[0;36m_reshape_2D\u001b[1;34m(X, name)\u001b[0m\n\u001b[0;32m   1400\u001b[0m     nd \u001b[38;5;241m=\u001b[39m np\u001b[38;5;241m.\u001b[39mndim(xi)\n\u001b[0;32m   1401\u001b[0m     \u001b[38;5;28;01mif\u001b[39;00m nd \u001b[38;5;241m>\u001b[39m \u001b[38;5;241m1\u001b[39m:\n\u001b[1;32m-> 1402\u001b[0m         \u001b[38;5;28;01mraise\u001b[39;00m \u001b[38;5;167;01mValueError\u001b[39;00m(\u001b[38;5;124mf\u001b[39m\u001b[38;5;124m'\u001b[39m\u001b[38;5;132;01m{\u001b[39;00mname\u001b[38;5;132;01m}\u001b[39;00m\u001b[38;5;124m must have 2 or fewer dimensions\u001b[39m\u001b[38;5;124m'\u001b[39m)\n\u001b[0;32m   1403\u001b[0m     result\u001b[38;5;241m.\u001b[39mappend(xi\u001b[38;5;241m.\u001b[39mreshape(\u001b[38;5;241m-\u001b[39m\u001b[38;5;241m1\u001b[39m))\n\u001b[0;32m   1405\u001b[0m \u001b[38;5;28;01mif\u001b[39;00m is_1d:\n\u001b[0;32m   1406\u001b[0m     \u001b[38;5;66;03m# 1D array of scalars: directly return it.\u001b[39;00m\n",
      "\u001b[1;31mValueError\u001b[0m: X must have 2 or fewer dimensions"
     ]
    },
    {
     "data": {
      "image/png": "[encoded data removed]",
      "text/plain": [
       "<Figure size 1500x800 with 1 Axes>"
      ]
     },
     "metadata": {},
     "output_type": "display_data"
    }
   ],
   "source": [
    "# Create Box Plot\n",
    "fig = plt.figure(figsize =(15, 8))\n",
    " \n",
    "# Creating plot\n",
    "plt.boxplot(Tumor_Volume_Data)\n",
    " \n",
    "# show plot\n",
    "plt.show()"
   ]
  },
  {
   "cell_type": "markdown",
   "id": "1d385e33",
   "metadata": {},
   "source": [
    "#                                 Create Line Plot"
   ]
  },
  {
   "cell_type": "code",
   "execution_count": null,
   "id": "ae078af5",
   "metadata": {},
   "outputs": [],
   "source": [
    "# Line Plot Timepoint vs Tumor volume\n",
    "tumvol_time_df = Clean_Mouse_StudyResults_Data_df.loc[Clean_Mouse_StudyResults_Data_df['Mouse ID'] == 's185']\n",
    "x_axis_data = tumvol_time_df[['Timepoint']]\n",
    "points = tumvol_time_df[['Tumor Volume (mm3)']]\n",
    "plt.plot(x_axis_data,points)\n",
    "plt.xlabel('TimePoint (days)')\n",
    "plt.ylabel('Tumor Volume (mm3)')\n",
    "plt.title('Capomulin Treatment of mouse s185')\n",
    "plt.show"
   ]
  },
  {
   "cell_type": "code",
   "execution_count": null,
   "id": "e094f3c6",
   "metadata": {},
   "outputs": [],
   "source": [
    "#Scatter Plot weight vs tumor volume\n",
    "tumvol_wght_df = Clean_Mouse_StudyResults_Data_df.loc[Clean_Mouse_StudyResults_Data_df['Mouse ID'] == 's185']\n",
    "x_axis_data = tumvol_wght_df[['Weight (g)']]\n",
    "points = tumvol_time_df[['Tumor Volume (mm3)']]\n",
    "plt.scatter(x_axis_data,points)\n",
    "plt.xlabel('Weight (g)')\n",
    "plt.ylabel('Tumor Volume (mm3)')\n",
    "plt.title('Capomulin Treatment of mouse s185')\n",
    "plt.show"
   ]
  },
  {
   "cell_type": "code",
   "execution_count": null,
   "id": "6c88f8aa",
   "metadata": {},
   "outputs": [],
   "source": [
    "tumvol_time_df = Clean_Mouse_StudyResults_Data_df.loc[Clean_Mouse_StudyResults_Data_df['Mouse ID'] == 's185']\n",
    "tumvol_time_df"
   ]
  },
  {
   "cell_type": "code",
   "execution_count": null,
   "id": "1358875c",
   "metadata": {},
   "outputs": [],
   "source": [
    "Clean_MAX_TP_Mouse_StudyResult_df"
   ]
  },
  {
   "cell_type": "markdown",
   "id": "ff0f4e9c",
   "metadata": {},
   "source": [
    "## Correlation and Regression"
   ]
  },
  {
   "cell_type": "code",
   "execution_count": 26,
   "id": "7ffaf344",
   "metadata": {},
   "outputs": [
    {
     "data": {
      "image/png": "[encoded data removed]",
      "text/plain": [
       "<Figure size 640x480 with 1 Axes>"
      ]
     },
     "metadata": {},
     "output_type": "display_data"
    },
    {
     "name": "stdout",
     "output_type": "stream",
     "text": [
      "The correlation between the mouses weight and the tumor volume is 0.65\n"
     ]
    }
   ],
   "source": [
    "Capomulin_df   = Clean_MAX_TP_Mouse_StudyResult_df.loc[Clean_MAX_TP_Mouse_StudyResult_df['Drug Regimen'] == 'Capomulin']\n",
    "x_values = Capomulin_df['Weight (g)']\n",
    "y_values = Capomulin_df['Tumor Volume (mm3)']\n",
    "corr=round(st.pearsonr(Clean_MAX_TP_Mouse_StudyResult_df['Weight (g)'],Clean_MAX_TP_Mouse_StudyResult_df['Tumor Volume (mm3)'])[0],2)\n",
    "(slope,intercept,rvalue,pvalue,stderr) = st.linregress(x_values,y_values)\n",
    "regress_values = x_values * slope + intercept\n",
    "line_eq = \"y = \" + str(round(slope,2)) + \"x + \" + str(round(intercept,2))\n",
    "plt.scatter(x_values,y_values)\n",
    "plt.plot(x_values,regress_values,color='green')\n",
    "plt.annotate(line_eq,(0,50),fontsize=25,color=\"green\")\n",
    "plt.xlabel('Weight (g)')\n",
    "plt.ylabel('Tumor Volume (mm3)')\n",
    "plt.show()\n",
    "print(f\"The correlation between the mouses weight and the tumor volume is {corr}\")"
   ]
  },
  {
   "cell_type": "code",
   "execution_count": null,
   "id": "464de8b3",
   "metadata": {},
   "outputs": [],
   "source": []
  }
 ],
 "metadata": {
  "kernelspec": {
   "display_name": "Python 3 (ipykernel)",
   "language": "python",
   "name": "python3"
  },
  "language_info": {
   "codemirror_mode": {
    "name": "ipython",
    "version": 3
   },
   "file_extension": ".py",
   "mimetype": "text/x-python",
   "name": "python",
   "nbconvert_exporter": "python",
   "pygments_lexer": "ipython3",
   "version": "3.10.10"
  }
 },
 "nbformat": 4,
 "nbformat_minor": 5
}
